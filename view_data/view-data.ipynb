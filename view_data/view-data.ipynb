{
 "cells": [
  {
   "cell_type": "code",
   "execution_count": null,
   "metadata": {
    "_uuid": "8f2839f25d086af736a60e9eeb907d3b93b6e0e5",
    "_cell_guid": "b1076dfc-b9ad-4769-8c92-a6c4dae69d19",
    "trusted": true
   },
   "outputs": [],
   "source": [
    "# This Python 3 environment comes with many helpful analytics libraries installed\n",
    "# It is defined by the kaggle/python docker image: https://github.com/kaggle/docker-python\n",
    "# For example, here's several helpful packages to load in \n",
    "\n",
    "import numpy as np # linear algebra\n",
    "import pandas as pd # data processing, CSV file I/O (e.g. pd.read_csv)\n",
    "\n",
    "# Input data files are available in the \"../input/\" directory.\n",
    "# For example, running this (by clicking run or pressing Shift+Enter) will list the files in the input directory\n",
    "\n",
    "\n",
    "# Any results you write to the current directory are saved as output."
   ]
  },
  {
   "cell_type": "code",
   "execution_count": null,
   "metadata": {
    "_cell_guid": "79c7e3d0-c299-4dcb-8224-4455121ee9b0",
    "_uuid": "d629ff2d2480ee46fbb7e2d37f6b5fab8052498a",
    "trusted": true
   },
   "outputs": [],
   "source": [
    "from kaggle.competitions import twosigmanews\n",
    "import numpy as np\n",
    "env = twosigmanews.make_env()\n",
    "\n",
    "# You can only iterate through a result from `get_prediction_days()` once\n",
    "# so be careful not to lose it once you start iterating.\n",
    "days = env.get_prediction_days()\n",
    "\n",
    "\n"
   ]
  },
  {
   "cell_type": "code",
   "execution_count": null,
   "metadata": {
    "trusted": true,
    "_uuid": "56342ed3279dea94a2e6635c84c03a3381a3dc88"
   },
   "outputs": [],
   "source": [
    "def make_random_predictions(predictions_df):\n",
    "    \"\"\"\n",
    "    baseline\n",
    "    \"\"\"\n",
    "    predictions_df.confidenceValue = 2.0 * np.random.rand(\n",
    "            len(predictions_df)) - 1.0\n",
    "\n",
    "\n",
    "market_train_df, news_train_df = env.get_training_data()\n",
    "\n",
    "print( 'train  dates : ' , market_train_df['time'].iloc[0] , market_train_df['time'].iloc[-1]  )\n",
    "print( 'train  dates : ' , news_train_df['time'].iloc[0] , news_train_df['time'].iloc[-1]  )\n",
    "\n",
    "market_obs_df, news_obs_df, predictions_template_df = next(days)\n",
    "env.predict(predictions_template_df)\n",
    "print( 'predict  dates : ' , market_obs_df['time'].iloc[0] , market_obs_df['time'].iloc[-1]  )\n",
    "print( 'predict  dates : ' , news_obs_df['time'].iloc[0] , news_obs_df['time'].iloc[-1]  )\n",
    "print(predictions_template_df)\n",
    "print('Done!')\n",
    "\n"
   ]
  },
  {
   "cell_type": "code",
   "execution_count": null,
   "metadata": {
    "trusted": true,
    "_uuid": "653c87d4e52aa19b2b7d224e7cbe3fcec86cb987"
   },
   "outputs": [],
   "source": [
    ""
   ]
  }
 ],
 "metadata": {
  "kernelspec": {
   "display_name": "Python 3",
   "language": "python",
   "name": "python3"
  },
  "language_info": {
   "name": "python",
   "version": "3.6.6",
   "mimetype": "text/x-python",
   "codemirror_mode": {
    "name": "ipython",
    "version": 3
   },
   "pygments_lexer": "ipython3",
   "nbconvert_exporter": "python",
   "file_extension": ".py"
  }
 },
 "nbformat": 4,
 "nbformat_minor": 1
}
